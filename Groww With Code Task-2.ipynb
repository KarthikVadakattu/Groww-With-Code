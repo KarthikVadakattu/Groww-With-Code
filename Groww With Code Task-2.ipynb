{
 "cells": [
  {
   "cell_type": "code",
   "execution_count": 1,
   "id": "ca05b3d5",
   "metadata": {},
   "outputs": [
    {
     "name": "stdout",
     "output_type": "stream",
     "text": [
      "Requirement already satisfied: keras in c:\\users\\karth\\anaconda3\\lib\\site-packages (2.13.1)\n"
     ]
    }
   ],
   "source": [
    "!pip install keras"
   ]
  },
  {
   "cell_type": "code",
   "execution_count": 2,
   "id": "aafa789f",
   "metadata": {},
   "outputs": [
    {
     "name": "stdout",
     "output_type": "stream",
     "text": [
      "Requirement already satisfied: tensorflow in c:\\users\\karth\\anaconda3\\lib\\site-packages (2.13.0)\n",
      "Requirement already satisfied: tensorflow-intel==2.13.0 in c:\\users\\karth\\anaconda3\\lib\\site-packages (from tensorflow) (2.13.0)\n",
      "Requirement already satisfied: google-pasta>=0.1.1 in c:\\users\\karth\\anaconda3\\lib\\site-packages (from tensorflow-intel==2.13.0->tensorflow) (0.2.0)\n",
      "Requirement already satisfied: h5py>=2.9.0 in c:\\users\\karth\\anaconda3\\lib\\site-packages (from tensorflow-intel==2.13.0->tensorflow) (3.2.1)\n",
      "Requirement already satisfied: astunparse>=1.6.0 in c:\\users\\karth\\anaconda3\\lib\\site-packages (from tensorflow-intel==2.13.0->tensorflow) (1.6.3)\n",
      "Requirement already satisfied: six>=1.12.0 in c:\\users\\karth\\anaconda3\\lib\\site-packages (from tensorflow-intel==2.13.0->tensorflow) (1.16.0)\n",
      "Requirement already satisfied: absl-py>=1.0.0 in c:\\users\\karth\\anaconda3\\lib\\site-packages (from tensorflow-intel==2.13.0->tensorflow) (1.4.0)\n",
      "Requirement already satisfied: libclang>=13.0.0 in c:\\users\\karth\\anaconda3\\lib\\site-packages (from tensorflow-intel==2.13.0->tensorflow) (16.0.6)\n",
      "Requirement already satisfied: gast<=0.4.0,>=0.2.1 in c:\\users\\karth\\anaconda3\\lib\\site-packages (from tensorflow-intel==2.13.0->tensorflow) (0.4.0)\n",
      "Requirement already satisfied: opt-einsum>=2.3.2 in c:\\users\\karth\\anaconda3\\lib\\site-packages (from tensorflow-intel==2.13.0->tensorflow) (3.3.0)\n",
      "Requirement already satisfied: typing-extensions<4.6.0,>=3.6.6 in c:\\users\\karth\\anaconda3\\lib\\site-packages (from tensorflow-intel==2.13.0->tensorflow) (3.10.0.2)\n",
      "Requirement already satisfied: termcolor>=1.1.0 in c:\\users\\karth\\anaconda3\\lib\\site-packages (from tensorflow-intel==2.13.0->tensorflow) (2.3.0)\n",
      "Requirement already satisfied: flatbuffers>=23.1.21 in c:\\users\\karth\\anaconda3\\lib\\site-packages (from tensorflow-intel==2.13.0->tensorflow) (23.5.26)\n",
      "Requirement already satisfied: tensorflow-estimator<2.14,>=2.13.0 in c:\\users\\karth\\anaconda3\\lib\\site-packages (from tensorflow-intel==2.13.0->tensorflow) (2.13.0)\n",
      "Requirement already satisfied: numpy<=1.24.3,>=1.22 in c:\\users\\karth\\anaconda3\\lib\\site-packages (from tensorflow-intel==2.13.0->tensorflow) (1.24.3)\n",
      "Requirement already satisfied: tensorflow-io-gcs-filesystem>=0.23.1 in c:\\users\\karth\\anaconda3\\lib\\site-packages (from tensorflow-intel==2.13.0->tensorflow) (0.31.0)\n",
      "Requirement already satisfied: grpcio<2.0,>=1.24.3 in c:\\users\\karth\\anaconda3\\lib\\site-packages (from tensorflow-intel==2.13.0->tensorflow) (1.56.2)\n",
      "Requirement already satisfied: protobuf!=4.21.0,!=4.21.1,!=4.21.2,!=4.21.3,!=4.21.4,!=4.21.5,<5.0.0dev,>=3.20.3 in c:\\users\\karth\\anaconda3\\lib\\site-packages (from tensorflow-intel==2.13.0->tensorflow) (4.23.4)\n",
      "Requirement already satisfied: setuptools in c:\\users\\karth\\anaconda3\\lib\\site-packages (from tensorflow-intel==2.13.0->tensorflow) (58.0.4)\n",
      "Requirement already satisfied: wrapt>=1.11.0 in c:\\users\\karth\\anaconda3\\lib\\site-packages (from tensorflow-intel==2.13.0->tensorflow) (1.12.1)\n",
      "Requirement already satisfied: keras<2.14,>=2.13.1 in c:\\users\\karth\\anaconda3\\lib\\site-packages (from tensorflow-intel==2.13.0->tensorflow) (2.13.1)\n",
      "Requirement already satisfied: packaging in c:\\users\\karth\\anaconda3\\lib\\site-packages (from tensorflow-intel==2.13.0->tensorflow) (21.0)\n",
      "Requirement already satisfied: tensorboard<2.14,>=2.13 in c:\\users\\karth\\anaconda3\\lib\\site-packages (from tensorflow-intel==2.13.0->tensorflow) (2.13.0)\n",
      "Requirement already satisfied: wheel<1.0,>=0.23.0 in c:\\users\\karth\\anaconda3\\lib\\site-packages (from astunparse>=1.6.0->tensorflow-intel==2.13.0->tensorflow) (0.37.0)\n",
      "Requirement already satisfied: requests<3,>=2.21.0 in c:\\users\\karth\\anaconda3\\lib\\site-packages (from tensorboard<2.14,>=2.13->tensorflow-intel==2.13.0->tensorflow) (2.26.0)\n",
      "Requirement already satisfied: tensorboard-data-server<0.8.0,>=0.7.0 in c:\\users\\karth\\anaconda3\\lib\\site-packages (from tensorboard<2.14,>=2.13->tensorflow-intel==2.13.0->tensorflow) (0.7.1)\n",
      "Requirement already satisfied: markdown>=2.6.8 in c:\\users\\karth\\anaconda3\\lib\\site-packages (from tensorboard<2.14,>=2.13->tensorflow-intel==2.13.0->tensorflow) (3.4.4)\n",
      "Requirement already satisfied: google-auth-oauthlib<1.1,>=0.5 in c:\\users\\karth\\anaconda3\\lib\\site-packages (from tensorboard<2.14,>=2.13->tensorflow-intel==2.13.0->tensorflow) (1.0.0)\n",
      "Requirement already satisfied: google-auth<3,>=1.6.3 in c:\\users\\karth\\anaconda3\\lib\\site-packages (from tensorboard<2.14,>=2.13->tensorflow-intel==2.13.0->tensorflow) (2.22.0)\n",
      "Requirement already satisfied: werkzeug>=1.0.1 in c:\\users\\karth\\anaconda3\\lib\\site-packages (from tensorboard<2.14,>=2.13->tensorflow-intel==2.13.0->tensorflow) (2.0.2)\n",
      "Requirement already satisfied: cachetools<6.0,>=2.0.0 in c:\\users\\karth\\anaconda3\\lib\\site-packages (from google-auth<3,>=1.6.3->tensorboard<2.14,>=2.13->tensorflow-intel==2.13.0->tensorflow) (5.3.1)\n",
      "Requirement already satisfied: rsa<5,>=3.1.4 in c:\\users\\karth\\anaconda3\\lib\\site-packages (from google-auth<3,>=1.6.3->tensorboard<2.14,>=2.13->tensorflow-intel==2.13.0->tensorflow) (4.9)\n",
      "Requirement already satisfied: pyasn1-modules>=0.2.1 in c:\\users\\karth\\anaconda3\\lib\\site-packages (from google-auth<3,>=1.6.3->tensorboard<2.14,>=2.13->tensorflow-intel==2.13.0->tensorflow) (0.3.0)\n",
      "Requirement already satisfied: urllib3<2.0 in c:\\users\\karth\\anaconda3\\lib\\site-packages (from google-auth<3,>=1.6.3->tensorboard<2.14,>=2.13->tensorflow-intel==2.13.0->tensorflow) (1.26.7)\n",
      "Requirement already satisfied: requests-oauthlib>=0.7.0 in c:\\users\\karth\\anaconda3\\lib\\site-packages (from google-auth-oauthlib<1.1,>=0.5->tensorboard<2.14,>=2.13->tensorflow-intel==2.13.0->tensorflow) (1.3.1)\n",
      "Requirement already satisfied: importlib-metadata>=4.4 in c:\\users\\karth\\anaconda3\\lib\\site-packages (from markdown>=2.6.8->tensorboard<2.14,>=2.13->tensorflow-intel==2.13.0->tensorflow) (4.8.1)\n",
      "Requirement already satisfied: zipp>=0.5 in c:\\users\\karth\\anaconda3\\lib\\site-packages (from importlib-metadata>=4.4->markdown>=2.6.8->tensorboard<2.14,>=2.13->tensorflow-intel==2.13.0->tensorflow) (3.6.0)\n",
      "Requirement already satisfied: pyasn1<0.6.0,>=0.4.6 in c:\\users\\karth\\anaconda3\\lib\\site-packages (from pyasn1-modules>=0.2.1->google-auth<3,>=1.6.3->tensorboard<2.14,>=2.13->tensorflow-intel==2.13.0->tensorflow) (0.5.0)\n",
      "Requirement already satisfied: idna<4,>=2.5 in c:\\users\\karth\\anaconda3\\lib\\site-packages (from requests<3,>=2.21.0->tensorboard<2.14,>=2.13->tensorflow-intel==2.13.0->tensorflow) (3.2)\n",
      "Requirement already satisfied: charset-normalizer~=2.0.0 in c:\\users\\karth\\anaconda3\\lib\\site-packages (from requests<3,>=2.21.0->tensorboard<2.14,>=2.13->tensorflow-intel==2.13.0->tensorflow) (2.0.4)\n",
      "Requirement already satisfied: certifi>=2017.4.17 in c:\\users\\karth\\anaconda3\\lib\\site-packages (from requests<3,>=2.21.0->tensorboard<2.14,>=2.13->tensorflow-intel==2.13.0->tensorflow) (2021.10.8)\n",
      "Requirement already satisfied: oauthlib>=3.0.0 in c:\\users\\karth\\anaconda3\\lib\\site-packages (from requests-oauthlib>=0.7.0->google-auth-oauthlib<1.1,>=0.5->tensorboard<2.14,>=2.13->tensorflow-intel==2.13.0->tensorflow) (3.2.2)\n",
      "Requirement already satisfied: pyparsing>=2.0.2 in c:\\users\\karth\\anaconda3\\lib\\site-packages (from packaging->tensorflow-intel==2.13.0->tensorflow) (3.0.4)\n"
     ]
    }
   ],
   "source": [
    "!pip install tensorflow"
   ]
  },
  {
   "cell_type": "code",
   "execution_count": 3,
   "id": "96eb0f0b",
   "metadata": {},
   "outputs": [
    {
     "name": "stderr",
     "output_type": "stream",
     "text": [
      "C:\\Users\\karth\\anaconda3\\lib\\site-packages\\scipy\\__init__.py:146: UserWarning: A NumPy version >=1.16.5 and <1.23.0 is required for this version of SciPy (detected version 1.24.3\n",
      "  warnings.warn(f\"A NumPy version >={np_minversion} and <{np_maxversion}\"\n"
     ]
    }
   ],
   "source": [
    "import pandas as pd\n",
    "import numpy as np\n",
    "import matplotlib.pyplot as plt\n",
    "from sklearn.preprocessing import MinMaxScaler\n",
    "from keras.models import Sequential\n",
    "from keras.layers import LSTM, Dense"
   ]
  },
  {
   "cell_type": "code",
   "execution_count": 4,
   "id": "009b3ad3",
   "metadata": {},
   "outputs": [],
   "source": [
    "# Load the data\n",
    "# Assuming you have a CSV file named 'stock_data.csv' with columns 'Date' and 'Close' representing the stock market data\n",
    "data = pd.read_csv('stock_data.csv')"
   ]
  },
  {
   "cell_type": "code",
   "execution_count": 5,
   "id": "67c3d675",
   "metadata": {},
   "outputs": [],
   "source": [
    "# Extract the 'Close' prices\n",
    "close_prices = data['Close'].values.reshape(-1, 1)"
   ]
  },
  {
   "cell_type": "code",
   "execution_count": 6,
   "id": "2dd2cf40",
   "metadata": {},
   "outputs": [],
   "source": [
    "# Normalize the data using MinMaxScaler\n",
    "scaler = MinMaxScaler(feature_range=(0, 1))\n",
    "normalized_data = scaler.fit_transform(close_prices)"
   ]
  },
  {
   "cell_type": "code",
   "execution_count": 7,
   "id": "8861aae7",
   "metadata": {},
   "outputs": [],
   "source": [
    "# Define the sequence length for LSTM (how many previous data points the LSTM will use to make predictions)\n",
    "sequence_length = 100"
   ]
  },
  {
   "cell_type": "code",
   "execution_count": 8,
   "id": "0f07f900",
   "metadata": {},
   "outputs": [],
   "source": [
    "# Create sequences of data for training\n",
    "X_train = []\n",
    "y_train = []\n",
    "for i in range(sequence_length, len(normalized_data)):\n",
    "    X_train.append(normalized_data[i-sequence_length:i, 0])\n",
    "    y_train.append(normalized_data[i, 0])\n",
    "X_train, y_train = np.array(X_train), np.array(y_train)"
   ]
  },
  {
   "cell_type": "code",
   "execution_count": 9,
   "id": "db7fa12a",
   "metadata": {},
   "outputs": [],
   "source": [
    "# Reshape the input data to be 3D (samples, timesteps, features)\n",
    "X_train = np.reshape(X_train, (X_train.shape[0], X_train.shape[1], 1))"
   ]
  },
  {
   "cell_type": "code",
   "execution_count": 10,
   "id": "0067f46c",
   "metadata": {},
   "outputs": [],
   "source": [
    "# Create the Stacked LSTM model\n",
    "model = Sequential()\n",
    "model.add(LSTM(units=50, return_sequences=True, input_shape=(X_train.shape[1], 1)))\n",
    "model.add(LSTM(units=50, return_sequences=True))\n",
    "model.add(LSTM(units=50))\n",
    "model.add(Dense(units=1))"
   ]
  },
  {
   "cell_type": "code",
   "execution_count": 11,
   "id": "a868af60",
   "metadata": {},
   "outputs": [],
   "source": [
    "# Compile the model\n",
    "model.compile(optimizer='adam', loss='mean_squared_error')"
   ]
  },
  {
   "cell_type": "code",
   "execution_count": 12,
   "id": "c13b2fa2",
   "metadata": {},
   "outputs": [
    {
     "name": "stdout",
     "output_type": "stream",
     "text": [
      "Epoch 1/100\n",
      "50/50 [==============================] - 23s 201ms/step - loss: 0.0261\n",
      "Epoch 2/100\n",
      "50/50 [==============================] - 10s 194ms/step - loss: 0.0026\n",
      "Epoch 3/100\n",
      "50/50 [==============================] - 10s 195ms/step - loss: 0.0023\n",
      "Epoch 4/100\n",
      "50/50 [==============================] - 10s 196ms/step - loss: 0.0022\n",
      "Epoch 5/100\n",
      "50/50 [==============================] - 10s 194ms/step - loss: 0.0020\n",
      "Epoch 6/100\n",
      "50/50 [==============================] - 9s 189ms/step - loss: 0.0017\n",
      "Epoch 7/100\n",
      "50/50 [==============================] - 10s 195ms/step - loss: 0.0016\n",
      "Epoch 8/100\n",
      "50/50 [==============================] - 10s 195ms/step - loss: 0.0015\n",
      "Epoch 9/100\n",
      "50/50 [==============================] - 10s 194ms/step - loss: 0.0013\n",
      "Epoch 10/100\n",
      "50/50 [==============================] - 9s 187ms/step - loss: 0.0013\n",
      "Epoch 11/100\n",
      "50/50 [==============================] - 10s 195ms/step - loss: 0.0013\n",
      "Epoch 12/100\n",
      "50/50 [==============================] - 10s 196ms/step - loss: 0.0013\n",
      "Epoch 13/100\n",
      "50/50 [==============================] - 10s 195ms/step - loss: 0.0013\n",
      "Epoch 14/100\n",
      "50/50 [==============================] - 10s 195ms/step - loss: 0.0012\n",
      "Epoch 15/100\n",
      "50/50 [==============================] - 10s 195ms/step - loss: 0.0011\n",
      "Epoch 16/100\n",
      "50/50 [==============================] - 10s 195ms/step - loss: 0.0014\n",
      "Epoch 17/100\n",
      "50/50 [==============================] - 10s 193ms/step - loss: 0.0011\n",
      "Epoch 18/100\n",
      "50/50 [==============================] - 10s 194ms/step - loss: 0.0012\n",
      "Epoch 19/100\n",
      "50/50 [==============================] - 10s 192ms/step - loss: 0.0012\n",
      "Epoch 20/100\n",
      "50/50 [==============================] - 10s 194ms/step - loss: 8.8373e-04\n",
      "Epoch 21/100\n",
      "50/50 [==============================] - 10s 195ms/step - loss: 8.8075e-04\n",
      "Epoch 22/100\n",
      "50/50 [==============================] - 10s 196ms/step - loss: 8.4982e-04\n",
      "Epoch 23/100\n",
      "50/50 [==============================] - 10s 194ms/step - loss: 8.1431e-04\n",
      "Epoch 24/100\n",
      "50/50 [==============================] - 10s 195ms/step - loss: 8.8525e-04\n",
      "Epoch 25/100\n",
      "50/50 [==============================] - 10s 195ms/step - loss: 7.9124e-04\n",
      "Epoch 26/100\n",
      "50/50 [==============================] - 10s 196ms/step - loss: 7.2106e-04\n",
      "Epoch 27/100\n",
      "50/50 [==============================] - 10s 195ms/step - loss: 6.9838e-04\n",
      "Epoch 28/100\n",
      "50/50 [==============================] - 9s 188ms/step - loss: 6.7452e-04\n",
      "Epoch 29/100\n",
      "50/50 [==============================] - 10s 195ms/step - loss: 6.7554e-04\n",
      "Epoch 30/100\n",
      "50/50 [==============================] - 10s 195ms/step - loss: 6.4566e-04\n",
      "Epoch 31/100\n",
      "50/50 [==============================] - 10s 194ms/step - loss: 6.2763e-04\n",
      "Epoch 32/100\n",
      "50/50 [==============================] - 10s 195ms/step - loss: 6.5515e-04\n",
      "Epoch 33/100\n",
      "50/50 [==============================] - 10s 196ms/step - loss: 6.4048e-04\n",
      "Epoch 34/100\n",
      "50/50 [==============================] - 10s 195ms/step - loss: 5.8368e-04\n",
      "Epoch 35/100\n",
      "50/50 [==============================] - 10s 194ms/step - loss: 7.1410e-04\n",
      "Epoch 36/100\n",
      "50/50 [==============================] - 10s 193ms/step - loss: 5.8549e-04\n",
      "Epoch 37/100\n",
      "50/50 [==============================] - 10s 193ms/step - loss: 5.3590e-04\n",
      "Epoch 38/100\n",
      "50/50 [==============================] - 10s 194ms/step - loss: 5.3906e-04\n",
      "Epoch 39/100\n",
      "50/50 [==============================] - 10s 193ms/step - loss: 5.0193e-04\n",
      "Epoch 40/100\n",
      "50/50 [==============================] - 10s 194ms/step - loss: 4.6089e-04\n",
      "Epoch 41/100\n",
      "50/50 [==============================] - 9s 189ms/step - loss: 6.6609e-04\n",
      "Epoch 42/100\n",
      "50/50 [==============================] - 10s 194ms/step - loss: 5.6672e-04\n",
      "Epoch 43/100\n",
      "50/50 [==============================] - 10s 192ms/step - loss: 5.0707e-04\n",
      "Epoch 44/100\n",
      "50/50 [==============================] - 10s 194ms/step - loss: 4.3997e-04\n",
      "Epoch 45/100\n",
      "50/50 [==============================] - 10s 193ms/step - loss: 4.1457e-04\n",
      "Epoch 46/100\n",
      "50/50 [==============================] - 10s 193ms/step - loss: 4.1484e-04\n",
      "Epoch 47/100\n",
      "50/50 [==============================] - 10s 194ms/step - loss: 4.1137e-04\n",
      "Epoch 48/100\n",
      "50/50 [==============================] - 10s 194ms/step - loss: 3.8172e-04\n",
      "Epoch 49/100\n",
      "50/50 [==============================] - 10s 193ms/step - loss: 4.4513e-04\n",
      "Epoch 50/100\n",
      "50/50 [==============================] - 10s 194ms/step - loss: 3.7992e-04\n",
      "Epoch 51/100\n",
      "50/50 [==============================] - 10s 192ms/step - loss: 3.9160e-04\n",
      "Epoch 52/100\n",
      "50/50 [==============================] - 10s 193ms/step - loss: 3.6311e-04\n",
      "Epoch 53/100\n",
      "50/50 [==============================] - 10s 193ms/step - loss: 4.7432e-04\n",
      "Epoch 54/100\n",
      "50/50 [==============================] - 10s 194ms/step - loss: 3.5386e-04\n",
      "Epoch 55/100\n",
      "50/50 [==============================] - 10s 192ms/step - loss: 3.7899e-04\n",
      "Epoch 56/100\n",
      "50/50 [==============================] - 10s 193ms/step - loss: 3.5521e-04\n",
      "Epoch 57/100\n",
      "50/50 [==============================] - 10s 193ms/step - loss: 3.5715e-04\n",
      "Epoch 58/100\n",
      "50/50 [==============================] - 10s 194ms/step - loss: 3.3996e-04\n",
      "Epoch 59/100\n",
      "50/50 [==============================] - 10s 194ms/step - loss: 4.8784e-04\n",
      "Epoch 60/100\n",
      "50/50 [==============================] - 10s 194ms/step - loss: 3.6703e-04\n",
      "Epoch 61/100\n",
      "50/50 [==============================] - 10s 193ms/step - loss: 3.4740e-04\n",
      "Epoch 62/100\n",
      "50/50 [==============================] - 10s 193ms/step - loss: 3.2894e-04\n",
      "Epoch 63/100\n",
      "50/50 [==============================] - 10s 192ms/step - loss: 3.4063e-04\n",
      "Epoch 64/100\n",
      "50/50 [==============================] - 10s 194ms/step - loss: 4.0710e-04\n",
      "Epoch 65/100\n",
      "50/50 [==============================] - 10s 192ms/step - loss: 3.5227e-04\n",
      "Epoch 66/100\n",
      "50/50 [==============================] - 10s 192ms/step - loss: 3.9830e-04\n",
      "Epoch 67/100\n",
      "50/50 [==============================] - 10s 193ms/step - loss: 4.4249e-04\n",
      "Epoch 68/100\n",
      "50/50 [==============================] - 10s 193ms/step - loss: 3.1771e-04\n",
      "Epoch 69/100\n",
      "50/50 [==============================] - 10s 193ms/step - loss: 3.6997e-04\n",
      "Epoch 70/100\n",
      "50/50 [==============================] - 10s 192ms/step - loss: 4.8408e-04\n",
      "Epoch 71/100\n",
      "50/50 [==============================] - 10s 193ms/step - loss: 3.8036e-04\n",
      "Epoch 72/100\n",
      "50/50 [==============================] - 10s 190ms/step - loss: 3.8691e-04\n",
      "Epoch 73/100\n",
      "50/50 [==============================] - 10s 194ms/step - loss: 4.2330e-04\n",
      "Epoch 74/100\n",
      "50/50 [==============================] - 10s 192ms/step - loss: 3.5167e-04\n",
      "Epoch 75/100\n",
      "50/50 [==============================] - 10s 192ms/step - loss: 3.2185e-04\n",
      "Epoch 76/100\n",
      "50/50 [==============================] - 10s 192ms/step - loss: 3.7989e-04\n",
      "Epoch 77/100\n",
      "50/50 [==============================] - 10s 193ms/step - loss: 3.7961e-04\n",
      "Epoch 78/100\n",
      "50/50 [==============================] - 10s 193ms/step - loss: 3.5285e-04\n",
      "Epoch 79/100\n",
      "50/50 [==============================] - 10s 194ms/step - loss: 3.9733e-04\n",
      "Epoch 80/100\n",
      "50/50 [==============================] - 10s 193ms/step - loss: 4.4511e-04\n",
      "Epoch 81/100\n",
      "50/50 [==============================] - 10s 192ms/step - loss: 3.3711e-04\n",
      "Epoch 82/100\n",
      "50/50 [==============================] - 10s 192ms/step - loss: 3.6606e-04\n",
      "Epoch 83/100\n",
      "50/50 [==============================] - 10s 193ms/step - loss: 3.2166e-04\n",
      "Epoch 84/100\n",
      "50/50 [==============================] - 10s 193ms/step - loss: 3.5284e-04\n",
      "Epoch 85/100\n",
      "50/50 [==============================] - 10s 193ms/step - loss: 3.0417e-04\n",
      "Epoch 86/100\n",
      "50/50 [==============================] - 10s 193ms/step - loss: 3.0410e-04\n",
      "Epoch 87/100\n",
      "50/50 [==============================] - 10s 193ms/step - loss: 3.4428e-04\n",
      "Epoch 88/100\n",
      "50/50 [==============================] - 10s 193ms/step - loss: 3.1705e-04\n",
      "Epoch 89/100\n",
      "50/50 [==============================] - 10s 192ms/step - loss: 3.2607e-04\n",
      "Epoch 90/100\n",
      "50/50 [==============================] - 10s 191ms/step - loss: 3.3515e-04\n",
      "Epoch 91/100\n",
      "50/50 [==============================] - 10s 193ms/step - loss: 3.4151e-04\n",
      "Epoch 92/100\n",
      "50/50 [==============================] - 10s 192ms/step - loss: 3.1946e-04\n",
      "Epoch 93/100\n",
      "50/50 [==============================] - 10s 191ms/step - loss: 4.0342e-04\n",
      "Epoch 94/100\n",
      "50/50 [==============================] - 10s 192ms/step - loss: 3.3569e-04\n",
      "Epoch 95/100\n",
      "50/50 [==============================] - 10s 192ms/step - loss: 3.2242e-04\n",
      "Epoch 96/100\n",
      "50/50 [==============================] - 10s 194ms/step - loss: 3.4575e-04\n",
      "Epoch 97/100\n",
      "50/50 [==============================] - 10s 194ms/step - loss: 3.3719e-04\n",
      "Epoch 98/100\n",
      "50/50 [==============================] - 10s 194ms/step - loss: 3.5948e-04\n",
      "Epoch 99/100\n",
      "50/50 [==============================] - 10s 190ms/step - loss: 3.4606e-04\n",
      "Epoch 100/100\n",
      "50/50 [==============================] - 10s 193ms/step - loss: 3.7894e-04\n"
     ]
    },
    {
     "data": {
      "text/plain": [
       "<keras.src.callbacks.History at 0x280de1b5d30>"
      ]
     },
     "execution_count": 12,
     "metadata": {},
     "output_type": "execute_result"
    }
   ],
   "source": [
    "# Train the model\n",
    "model.fit(X_train, y_train, epochs=100, batch_size=32)"
   ]
  },
  {
   "cell_type": "code",
   "execution_count": 13,
   "id": "ea3f41ec",
   "metadata": {},
   "outputs": [],
   "source": [
    "# Prepare data for forecasting\n",
    "last_sequence = close_prices[-sequence_length:]\n",
    "last_sequence_normalized = scaler.transform(last_sequence.reshape(-1, 1))\n",
    "X_forecast = last_sequence_normalized[-sequence_length:].reshape(1, -1, 1)"
   ]
  },
  {
   "cell_type": "code",
   "execution_count": 14,
   "id": "09f57d0c",
   "metadata": {},
   "outputs": [
    {
     "name": "stdout",
     "output_type": "stream",
     "text": [
      "1/1 [==============================] - 3s 3s/step\n",
      "1/1 [==============================] - 0s 94ms/step\n",
      "1/1 [==============================] - 0s 74ms/step\n",
      "1/1 [==============================] - 0s 79ms/step\n",
      "1/1 [==============================] - 0s 91ms/step\n",
      "1/1 [==============================] - 0s 78ms/step\n",
      "1/1 [==============================] - 0s 79ms/step\n",
      "1/1 [==============================] - 0s 78ms/step\n",
      "1/1 [==============================] - 0s 79ms/step\n",
      "1/1 [==============================] - 0s 71ms/step\n",
      "1/1 [==============================] - 0s 94ms/step\n",
      "1/1 [==============================] - 0s 79ms/step\n",
      "1/1 [==============================] - 0s 78ms/step\n",
      "1/1 [==============================] - 0s 102ms/step\n",
      "1/1 [==============================] - 0s 80ms/step\n",
      "1/1 [==============================] - 0s 79ms/step\n",
      "1/1 [==============================] - 0s 80ms/step\n",
      "1/1 [==============================] - 0s 83ms/step\n",
      "1/1 [==============================] - 0s 73ms/step\n",
      "1/1 [==============================] - 0s 81ms/step\n",
      "1/1 [==============================] - 0s 76ms/step\n",
      "1/1 [==============================] - 0s 79ms/step\n",
      "1/1 [==============================] - 0s 94ms/step\n",
      "1/1 [==============================] - 0s 101ms/step\n",
      "1/1 [==============================] - 0s 83ms/step\n",
      "1/1 [==============================] - 0s 85ms/step\n",
      "1/1 [==============================] - 0s 73ms/step\n",
      "1/1 [==============================] - 0s 73ms/step\n",
      "1/1 [==============================] - 0s 82ms/step\n",
      "1/1 [==============================] - 0s 65ms/step\n"
     ]
    }
   ],
   "source": [
    "# Make predictions for the next 30 days (you can adjust this value)\n",
    "forecast_length = 30\n",
    "predicted_prices = []\n",
    "for _ in range(forecast_length):\n",
    "    prediction = model.predict(X_forecast)\n",
    "    predicted_prices.append(prediction[0, 0])\n",
    "    X_forecast = np.append(X_forecast[:, 1:, :], prediction.reshape(1, 1, 1), axis=1)"
   ]
  },
  {
   "cell_type": "code",
   "execution_count": 15,
   "id": "da9c1b5c",
   "metadata": {},
   "outputs": [],
   "source": [
    "# Inverse transform the predicted prices to get the original scale\n",
    "predicted_prices = scaler.inverse_transform(np.array(predicted_prices).reshape(-1, 1)).flatten()"
   ]
  },
  {
   "cell_type": "code",
   "execution_count": 16,
   "id": "1f7cca70",
   "metadata": {},
   "outputs": [
    {
     "data": {
      "image/png": "[encoded data removed]",
      "text/plain": [
       "<Figure size 720x432 with 1 Axes>"
      ]
     },
     "metadata": {
      "needs_background": "light"
     },
     "output_type": "display_data"
    }
   ],
   "source": [
    "# Plot the results\n",
    "plt.figure(figsize=(10, 6))\n",
    "plt.plot(data['Date'][-forecast_length:], predicted_prices, label='Predicted Prices')\n",
    "plt.plot(data['Date'][-forecast_length:], close_prices[-forecast_length:], label='Actual Prices')\n",
    "plt.xlabel('Date')\n",
    "plt.ylabel('Stock Price')\n",
    "plt.title('Stock Market Prediction using Stacked LSTM')\n",
    "plt.legend()\n",
    "plt.show()"
   ]
  },
  {
   "cell_type": "code",
   "execution_count": null,
   "id": "b3d91b3b",
   "metadata": {},
   "outputs": [],
   "source": []
  }
 ],
 "metadata": {
  "kernelspec": {
   "display_name": "Python 3 (ipykernel)",
   "language": "python",
   "name": "python3"
  },
  "language_info": {
   "codemirror_mode": {
    "name": "ipython",
    "version": 3
   },
   "file_extension": ".py",
   "mimetype": "text/x-python",
   "name": "python",
   "nbconvert_exporter": "python",
   "pygments_lexer": "ipython3",
   "version": "3.9.7"
  }
 },
 "nbformat": 4,
 "nbformat_minor": 5
}
